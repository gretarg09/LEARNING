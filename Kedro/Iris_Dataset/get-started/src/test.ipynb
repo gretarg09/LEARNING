{
 "cells": [
  {
   "cell_type": "code",
   "execution_count": 21,
   "metadata": {},
   "outputs": [
    {
     "name": "stdout",
     "output_type": "stream",
     "text": [
      "The autoreload extension is already loaded. To reload it, use:\n",
      "  %reload_ext autoreload\n",
      "running decorator\n",
      "random_state 8\n",
      "target_column species\n",
      "train_fraction 0.9\n"
     ]
    }
   ],
   "source": [
    "%load_ext autoreload\n",
    "%autoreload 2\n",
    "\n",
    "from tests.test_node import  test_split_data\n",
    "test_split_data()"
   ]
  },
  {
   "cell_type": "code",
   "execution_count": 11,
   "metadata": {},
   "outputs": [
    {
     "data": {
      "text/plain": [
       "9"
      ]
     },
     "execution_count": 11,
     "metadata": {},
     "output_type": "execute_result"
    }
   ],
   "source": [
    "len(result[0])"
   ]
  },
  {
   "cell_type": "code",
   "execution_count": 13,
   "metadata": {},
   "outputs": [
    {
     "data": {
      "text/plain": [
       "1"
      ]
     },
     "execution_count": 13,
     "metadata": {},
     "output_type": "execute_result"
    }
   ],
   "source": [
    "len(result[1])"
   ]
  },
  {
   "cell_type": "code",
   "execution_count": 14,
   "metadata": {},
   "outputs": [
    {
     "data": {
      "text/plain": [
       "9"
      ]
     },
     "execution_count": 14,
     "metadata": {},
     "output_type": "execute_result"
    }
   ],
   "source": [
    "len(result[2])"
   ]
  },
  {
   "cell_type": "code",
   "execution_count": 15,
   "metadata": {},
   "outputs": [
    {
     "data": {
      "text/plain": [
       "1"
      ]
     },
     "execution_count": 15,
     "metadata": {},
     "output_type": "execute_result"
    }
   ],
   "source": [
    "len(result[3])"
   ]
  },
  {
   "cell_type": "code",
   "execution_count": 68,
   "metadata": {},
   "outputs": [
    {
     "data": {
      "text/plain": [
       "['/home/gretar_atli/Git/LEARNING__kedro/Iris_Dataset/get-started/src/tests/test_data/nodes/split_data/parameters.yaml',\n",
       " '/home/gretar_atli/Git/LEARNING__kedro/Iris_Dataset/get-started/src/tests/test_data/nodes/split_data/input_data.csv']"
      ]
     },
     "execution_count": 68,
     "metadata": {},
     "output_type": "execute_result"
    }
   ],
   "source": [
    "from tests.utils.dir import find_files_by_dir_keyword\n",
    "from tests.utils.dir import get_root_of_test_data \n",
    "\n",
    "root = get_root_of_test_data()\n",
    "#print(root)\n",
    "#root = '/home/gretar_atli/Git/LEARNING__kedro/Iris_Dataset/get-started/src/tests/test_data/'\n",
    "#print(root)\n",
    "find_files_by_dir_keyword(root, 'split_data')"
   ]
  },
  {
   "cell_type": "code",
   "execution_count": 66,
   "metadata": {},
   "outputs": [
    {
     "name": "stdout",
     "output_type": "stream",
     "text": [
      "running decorator\n",
      "     sepal_length  sepal_width  petal_length  petal_width    species\n",
      "0             5.1          3.5           1.4          0.2     setosa\n",
      "1             4.9          3.0           1.4          0.2     setosa\n",
      "2             4.7          3.2           1.3          0.2     setosa\n",
      "3             4.6          3.1           1.5          0.2     setosa\n",
      "4             5.0          3.6           1.4          0.2     setosa\n",
      "..            ...          ...           ...          ...        ...\n",
      "145           6.7          3.0           5.2          2.3  virginica\n",
      "146           6.3          2.5           5.0          1.9  virginica\n",
      "147           6.5          3.0           5.2          2.0  virginica\n",
      "148           6.2          3.4           5.4          2.3  virginica\n",
      "149           5.9          3.0           5.1          1.8  virginica\n",
      "\n",
      "[150 rows x 5 columns]\n",
      "                    INFO     Loading data from               data_catalog.py:343\n",
      "                             'example_iris_data'                                \n",
      "                             (MemoryDataSet)...                                 \n",
      "                    INFO     Loading data from 'parameters'  data_catalog.py:343\n",
      "                             (MemoryDataSet)...                                 \n",
      "                    INFO     Running node: split:                    node.py:327\n",
      "                             split_data([example_iris_data,parameter            \n",
      "                             s]) -> [X_train,X_test,y_train,y_test]             \n",
      "random_state 8\n",
      "target_column species\n",
      "train_fraction 0.9\n",
      "                    INFO     Saving data to 'X_train'        data_catalog.py:382\n",
      "                             (MemoryDataSet)...                                 \n",
      "                    INFO     Saving data to 'X_test'         data_catalog.py:382\n",
      "                             (MemoryDataSet)...                                 \n",
      "                    INFO     Saving data to 'y_train'        data_catalog.py:382\n",
      "                             (MemoryDataSet)...                                 \n",
      "                    INFO     Saving data to 'y_test'         data_catalog.py:382\n",
      "                             (MemoryDataSet)...                                 \n",
      "                    INFO     Completed 1 out of 3 tasks  sequential_runner.py:85\n",
      "                    INFO     Loading data from 'X_train'     data_catalog.py:343\n",
      "                             (MemoryDataSet)...                                 \n",
      "                    INFO     Loading data from 'X_test'      data_catalog.py:343\n",
      "                             (MemoryDataSet)...                                 \n",
      "                    INFO     Loading data from 'y_train'     data_catalog.py:343\n",
      "                             (MemoryDataSet)...                                 \n",
      "                    INFO     Running node: make_predictions:         node.py:327\n",
      "                             make_predictions([X_train,X_test,y_trai            \n",
      "                             n]) -> [y_pred]                                    \n",
      "                    INFO     Saving data to 'y_pred'         data_catalog.py:382\n",
      "                             (MemoryDataSet)...                                 \n",
      "                    INFO     Completed 2 out of 3 tasks  sequential_runner.py:85\n",
      "                    INFO     Loading data from 'y_pred'      data_catalog.py:343\n",
      "                             (MemoryDataSet)...                                 \n",
      "                    INFO     Loading data from 'y_test'      data_catalog.py:343\n",
      "                             (MemoryDataSet)...                                 \n",
      "                    INFO     Running node: report_accuracy:          node.py:327\n",
      "                             report_accuracy([y_pred,y_test]) ->                \n",
      "                             [accuracy]                                         \n",
      "                    INFO     Saving data to 'accuracy'       data_catalog.py:382\n",
      "                             (MemoryDataSet)...                                 \n",
      "                    INFO     Completed 3 out of 3 tasks  sequential_runner.py:85\n",
      "                    INFO     Pipeline execution completed           runner.py:89\n",
      "                             successfully.                                      \n",
      "                    INFO     Loading data from 'accuracy'    data_catalog.py:343\n",
      "                             (MemoryDataSet)...                                 \n",
      "0.8666666666666667\n"
     ]
    }
   ],
   "source": [
    "from tests.test_pipeline import TestGetStartedPipeline\n",
    "\n",
    "TestGetStartedPipeline().test_pipeline()"
   ]
  },
  {
   "cell_type": "code",
   "execution_count": 75,
   "metadata": {},
   "outputs": [],
   "source": [
    "yaml_file = '/home/gretar_atli/Git/LEARNING__kedro/Iris_Dataset/get-started/src/tests/test_data/pipeline/parameters.yaml'\n",
    "\n",
    "import yaml\n",
    "\n",
    "with open(yaml_file, \"r\") as stream:\n",
    "    try:\n",
    "        result_dict = yaml.safe_load(stream)\n",
    "    except yaml.YAMLError as exc:\n",
    "        print(exc)"
   ]
  },
  {
   "cell_type": "code",
   "execution_count": 76,
   "metadata": {},
   "outputs": [
    {
     "data": {
      "text/plain": [
       "{'random_state': 8, 'target_column': 'species', 'train_fraction': 0.9}"
      ]
     },
     "execution_count": 76,
     "metadata": {},
     "output_type": "execute_result"
    }
   ],
   "source": [
    "result_dict"
   ]
  }
 ],
 "metadata": {
  "kernelspec": {
   "display_name": "Python 3.9.7 ('env': venv)",
   "language": "python",
   "name": "python3"
  },
  "language_info": {
   "codemirror_mode": {
    "name": "ipython",
    "version": 3
   },
   "file_extension": ".py",
   "mimetype": "text/x-python",
   "name": "python",
   "nbconvert_exporter": "python",
   "pygments_lexer": "ipython3",
   "version": "3.9.7"
  },
  "orig_nbformat": 4,
  "vscode": {
   "interpreter": {
    "hash": "474b586ff1ab92f0e804d4fd7bf513ade213b23e4460c1b58ee2c8c1d56f5c49"
   }
  }
 },
 "nbformat": 4,
 "nbformat_minor": 2
}
